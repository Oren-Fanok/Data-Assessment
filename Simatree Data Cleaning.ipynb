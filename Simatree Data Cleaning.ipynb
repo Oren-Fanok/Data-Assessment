{
 "cells": [
  {
   "cell_type": "markdown",
   "id": "710404ec",
   "metadata": {},
   "source": [
    "# Simatree Assessment: Data Cleaning"
   ]
  },
  {
   "cell_type": "markdown",
   "id": "dd63bf27",
   "metadata": {},
   "source": [
    "Welcome to the data cleaning portion of the Simatree Assessment. This notebook will provide a series of code chunks to import, format, clean, and export the provided Athlete Events data. This notebook will follow the steps below:\n",
    "1. Begin by reading the CSV file to a Pandas data frame.\n",
    "2. Impute missing Age, Height, and Weight values using group averages.\n",
    "3. Format the Medals column.\n",
    "4. Format the Name column.\n",
    "5. Remove duplicate values within the data frame.\n",
    "6. Export the data frame to a CSV file."
   ]
  },
  {
   "cell_type": "code",
   "execution_count": 1,
   "id": "c3f84998",
   "metadata": {},
   "outputs": [],
   "source": [
    "import pandas as pd\n",
    "import os\n",
    "import csv\n",
    "import math\n",
    "\n",
    "import re\n",
    "import datetime\n",
    "import io\n",
    "from zipfile import ZipFile\n",
    "\n",
    "import pandas as pd\n",
    "import numpy as np\n",
    "import pandas_gbq\n",
    "import janitor\n",
    "from sklearn.impute import KNNImputer\n",
    "from sklearn.preprocessing import LabelEncoder"
   ]
  },
  {
   "cell_type": "markdown",
   "id": "b00fc5b4",
   "metadata": {},
   "source": [
    "## Read Athlete data into Pandas Dataframe"
   ]
  },
  {
   "cell_type": "code",
   "execution_count": 2,
   "id": "5c8f0f4b",
   "metadata": {},
   "outputs": [],
   "source": [
    "new_df = pd.read_csv('athlete_events.csv')"
   ]
  },
  {
   "cell_type": "markdown",
   "id": "c4ca7ff2",
   "metadata": {},
   "source": [
    "## Data Cleaning "
   ]
  },
  {
   "cell_type": "markdown",
   "id": "da110ac5",
   "metadata": {},
   "source": [
    "### Impute missing Age and Weight values"
   ]
  },
  {
   "cell_type": "markdown",
   "id": "e26f9a5c",
   "metadata": {},
   "source": [
    "I'll begin by imputing Age, Height, and Weight NA values by grouping athletes by Sex and Sport. I'll then use the fillna method to fill in missing height and weight values with the mean height and weight value within each grouping."
   ]
  },
  {
   "cell_type": "code",
   "execution_count": 3,
   "id": "31c88016",
   "metadata": {},
   "outputs": [],
   "source": [
    "#create groups from the athlete data with the same Sex and Sport values\n",
    "grouped = new_df.groupby(['Sex', 'Sport'])\n",
    "\n",
    "# Create a function that imputes missing values with the mean Age of the group, using the fillna method\n",
    "def impute_age(group):\n",
    "    group['Age'] = group['Age'].fillna(group['Age'].mean())\n",
    "    return group\n",
    "\n",
    "# Apply the function to each group and assign the results to new_df\n",
    "new_df = grouped.apply(impute_age).reset_index(drop=True)"
   ]
  },
  {
   "cell_type": "code",
   "execution_count": 4,
   "id": "87827f83",
   "metadata": {},
   "outputs": [],
   "source": [
    "#create groups from the athlete data with the same Sex and Sport values\n",
    "grouped = new_df.groupby(['Sex', 'Sport'])\n",
    "\n",
    "# Create a function that imputes missing values with the mean Height of the group, using the fillna method\n",
    "def impute_height(group):\n",
    "    group['Height'] = group['Height'].fillna(group['Height'].mean())\n",
    "    return group\n",
    "\n",
    "# Apply the function to each group and assign the results to new_df\n",
    "new_df = grouped.apply(impute_height).reset_index(drop=True)\n"
   ]
  },
  {
   "cell_type": "code",
   "execution_count": 5,
   "id": "f885f17e",
   "metadata": {},
   "outputs": [],
   "source": [
    "#create groups from the athlete data with the same Sex and Sport values\n",
    "grouped = new_df.groupby(['Sex', 'Sport'])\n",
    "\n",
    "# Create a function that imputes missing values with the mean Weight of the group, using the fillna method\n",
    "def impute_weight(group):\n",
    "    group['Weight'] = group['Weight'].fillna(group['Weight'].mean())\n",
    "    return group\n",
    "\n",
    "# Apply the function to each group and assign the results to new_df\n",
    "new_df = grouped.apply(impute_weight).reset_index(drop=True)"
   ]
  },
  {
   "cell_type": "markdown",
   "id": "a6de0202",
   "metadata": {},
   "source": [
    "I'll end the imputation by creating a new set of groups based on Sex and National Olympic Committee (country) as there are still 100 missing Height and Weight values after the imputation above."
   ]
  },
  {
   "cell_type": "code",
   "execution_count": 6,
   "id": "7529ad09",
   "metadata": {},
   "outputs": [],
   "source": [
    "#create groups from the athlete data with the same Sex and Sport values\n",
    "grouped = new_df.groupby(['Sex', 'NOC'])\n",
    "\n",
    "# Create a function that imputes missing values with the mean Age of the group, using the fillna method\n",
    "def impute_age(group):\n",
    "    group['Age'] = group['Age'].fillna(group['Age'].mean())\n",
    "    return group\n",
    "\n",
    "# Apply the function to each group and assign the results to new_df\n",
    "new_df = grouped.apply(impute_age).reset_index(drop=True)"
   ]
  },
  {
   "cell_type": "code",
   "execution_count": 7,
   "id": "90ac45d0",
   "metadata": {},
   "outputs": [],
   "source": [
    "#create groups from the athlete data with the same Sex and NOC values\n",
    "grouped = new_df.groupby(['Sex', 'NOC'])\n",
    "\n",
    "# Create a function that imputes missing values with the mean Height of the group, using the fillna method\n",
    "def impute_height(group):\n",
    "    group['Height'] = group['Height'].fillna(group['Height'].mean())\n",
    "    return group\n",
    "\n",
    "# Apply the function to each group and assign the results to new_df\n",
    "new_df = grouped.apply(impute_height).reset_index(drop=True)"
   ]
  },
  {
   "cell_type": "code",
   "execution_count": 8,
   "id": "90c0cf95",
   "metadata": {},
   "outputs": [],
   "source": [
    "#create groups from the athlete data with the same Sex and NOC values\n",
    "grouped = new_df.groupby(['Sex', 'NOC'])\n",
    "\n",
    "# Create a function that imputes missing values with the mean Weight of the group, using the fillna method\n",
    "def impute_weight(group):\n",
    "    group['Weight'] = group['Weight'].fillna(group['Weight'].mean())\n",
    "    return group\n",
    "\n",
    "# Apply the function to each group and assign the results to new_df\n",
    "new_df = grouped.apply(impute_weight).reset_index(drop=True)"
   ]
  },
  {
   "cell_type": "markdown",
   "id": "22f75596",
   "metadata": {},
   "source": [
    "### Format the Medals column"
   ]
  },
  {
   "cell_type": "code",
   "execution_count": 9,
   "id": "eefca7c2",
   "metadata": {},
   "outputs": [],
   "source": [
    "# Iterate over the DF and fill NaN medal values\n",
    "for index, row in new_df.iterrows():\n",
    "    if pd.isna(row['Medal']):\n",
    "        new_df.at[index, 'Medal'] = 'None'"
   ]
  },
  {
   "cell_type": "markdown",
   "id": "39e24b64",
   "metadata": {},
   "source": [
    "### Format the Names Column"
   ]
  },
  {
   "cell_type": "code",
   "execution_count": 10,
   "id": "50581a16",
   "metadata": {},
   "outputs": [],
   "source": [
    "#Initialize the new columns\n",
    "new_df['First Name'] = (\"\")\n",
    "new_df['Middle Name'] = (\"\")\n",
    "new_df['Last Name'] = (\"\")\n",
    "new_df = new_df.rename(columns={'Name': 'Full Name'})\n",
    "\n",
    "#Re-Order new_df columns\n",
    "new_df = new_df[['ID', 'Full Name', 'First Name', 'Middle Name', 'Last Name', 'Sex', 'Age', 'Height', 'Weight',\n",
    "               'Team', 'NOC', 'Games', 'Year', 'Season', 'City', 'Sport', 'Event', 'Medal']]\n",
    "\n",
    "#Split Full Name on spaces\n",
    "split_names = new_df['Full Name'].str.split(' ', n=2, expand=True)\n",
    "\n",
    "#Assign split names to new columns\n",
    "new_df[['First Name', 'Middle Name', 'Last Name']] = split_names\n",
    "\n",
    "#Handle Users without Middle Names\n",
    "for index,row in new_df.iterrows():\n",
    "    if row['Middle Name'] != None and row['Last Name'] == None:\n",
    "        new_df.at[index, 'Last Name'] = row['Middle Name']\n",
    "        new_df.at[index, 'Middle Name'] = 'None'\n",
    "    else:\n",
    "        pass\n"
   ]
  },
  {
   "cell_type": "markdown",
   "id": "a1d1b9e4",
   "metadata": {},
   "source": [
    "### Client Preference: Remove rows with duplicate Name, Team, Year, Event, and Medal Values"
   ]
  },
  {
   "cell_type": "markdown",
   "id": "b1d45391",
   "metadata": {},
   "source": [
    "After investigating the duplicates removed for validity purposes, I noticed some users who had the exact same name, team, year, event, and medal values were in fact valid. Auguste Albert who competed under the same name, team, year, and event, recieved a bronze and silver medal in the same event. Along with medals, many other duplicates were being removed for having unknown events. Rows with duplicate Name, Team, Year, Event, and Medal values make up roughly 1300 rows, less than .5% of the data."
   ]
  },
  {
   "cell_type": "code",
   "execution_count": 11,
   "id": "47e4e0e3",
   "metadata": {},
   "outputs": [],
   "source": [
    "# create a boolean mask of rows with duplicate \"PumpTagIndex\" and \"PumpStart\" values\n",
    "mask = new_df.duplicated(subset =['Full Name','Team', 'Year', 'Event', 'Medal'], keep = 'first')\n",
    "\n",
    "#now let's drop the duplicate rows\n",
    "new_df = new_df[~mask]\n",
    "\n",
    "# reset the index after dropping rows\n",
    "new_df.reset_index(drop=True, inplace=True)"
   ]
  },
  {
   "cell_type": "markdown",
   "id": "dcca84d1",
   "metadata": {},
   "source": [
    "## Export Cleaned File to CSV"
   ]
  },
  {
   "cell_type": "code",
   "execution_count": 12,
   "id": "ed5e138b",
   "metadata": {},
   "outputs": [],
   "source": [
    "new_df.to_csv(\"Olympic Athlete Data.csv\")"
   ]
  },
  {
   "cell_type": "code",
   "execution_count": null,
   "id": "be82eec8",
   "metadata": {},
   "outputs": [],
   "source": []
  }
 ],
 "metadata": {
  "kernelspec": {
   "display_name": "Python 3 (ipykernel)",
   "language": "python",
   "name": "python3"
  },
  "language_info": {
   "codemirror_mode": {
    "name": "ipython",
    "version": 3
   },
   "file_extension": ".py",
   "mimetype": "text/x-python",
   "name": "python",
   "nbconvert_exporter": "python",
   "pygments_lexer": "ipython3",
   "version": "3.9.13"
  }
 },
 "nbformat": 4,
 "nbformat_minor": 5
}
